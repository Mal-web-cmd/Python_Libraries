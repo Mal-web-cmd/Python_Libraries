{
  "nbformat": 4,
  "nbformat_minor": 0,
  "metadata": {
    "colab": {
      "provenance": [],
      "authorship_tag": "ABX9TyNZaC1RM711o/MKC2/Cx2z9",
      "include_colab_link": true
    },
    "kernelspec": {
      "name": "python3",
      "display_name": "Python 3"
    },
    "language_info": {
      "name": "python"
    }
  },
  "cells": [
    {
      "cell_type": "markdown",
      "metadata": {
        "id": "view-in-github",
        "colab_type": "text"
      },
      "source": [
        "<a href=\"https://colab.research.google.com/github/Mal-web-cmd/Python_Libraries/blob/main/Week_4.ipynb\" target=\"_parent\"><img src=\"https://colab.research.google.com/assets/colab-badge.svg\" alt=\"Open In Colab\"/></a>"
      ]
    },
    {
      "cell_type": "code",
      "source": [
        "!pip install pytube moviepy opencv-python\n"
      ],
      "metadata": {
        "colab": {
          "base_uri": "https://localhost:8080/"
        },
        "id": "R32kw8tK1iy0",
        "outputId": "63bb6b87-872a-4b12-8f73-6fa249e57bcf"
      },
      "execution_count": 5,
      "outputs": [
        {
          "output_type": "stream",
          "name": "stdout",
          "text": [
            "Requirement already satisfied: pytube in /usr/local/lib/python3.11/dist-packages (15.0.0)\n",
            "Requirement already satisfied: moviepy in /usr/local/lib/python3.11/dist-packages (1.0.3)\n",
            "Requirement already satisfied: opencv-python in /usr/local/lib/python3.11/dist-packages (4.11.0.86)\n",
            "Requirement already satisfied: decorator<5.0,>=4.0.2 in /usr/local/lib/python3.11/dist-packages (from moviepy) (4.4.2)\n",
            "Requirement already satisfied: tqdm<5.0,>=4.11.2 in /usr/local/lib/python3.11/dist-packages (from moviepy) (4.67.1)\n",
            "Requirement already satisfied: requests<3.0,>=2.8.1 in /usr/local/lib/python3.11/dist-packages (from moviepy) (2.32.3)\n",
            "Requirement already satisfied: proglog<=1.0.0 in /usr/local/lib/python3.11/dist-packages (from moviepy) (0.1.11)\n",
            "Requirement already satisfied: numpy>=1.17.3 in /usr/local/lib/python3.11/dist-packages (from moviepy) (2.0.2)\n",
            "Requirement already satisfied: imageio<3.0,>=2.5 in /usr/local/lib/python3.11/dist-packages (from moviepy) (2.37.0)\n",
            "Requirement already satisfied: imageio-ffmpeg>=0.2.0 in /usr/local/lib/python3.11/dist-packages (from moviepy) (0.6.0)\n",
            "Requirement already satisfied: pillow>=8.3.2 in /usr/local/lib/python3.11/dist-packages (from imageio<3.0,>=2.5->moviepy) (11.2.1)\n",
            "Requirement already satisfied: charset-normalizer<4,>=2 in /usr/local/lib/python3.11/dist-packages (from requests<3.0,>=2.8.1->moviepy) (3.4.1)\n",
            "Requirement already satisfied: idna<4,>=2.5 in /usr/local/lib/python3.11/dist-packages (from requests<3.0,>=2.8.1->moviepy) (3.10)\n",
            "Requirement already satisfied: urllib3<3,>=1.21.1 in /usr/local/lib/python3.11/dist-packages (from requests<3.0,>=2.8.1->moviepy) (2.4.0)\n",
            "Requirement already satisfied: certifi>=2017.4.17 in /usr/local/lib/python3.11/dist-packages (from requests<3.0,>=2.8.1->moviepy) (2025.4.26)\n"
          ]
        }
      ]
    },
    {
      "cell_type": "code",
      "source": [
        "!pip install --upgrade pytube"
      ],
      "metadata": {
        "colab": {
          "base_uri": "https://localhost:8080/"
        },
        "id": "fdEOrACZ5HK3",
        "outputId": "9b4b5b47-9ae0-4b46-a47b-20d14b5b1ff2"
      },
      "execution_count": 6,
      "outputs": [
        {
          "output_type": "stream",
          "name": "stdout",
          "text": [
            "Requirement already satisfied: pytube in /usr/local/lib/python3.11/dist-packages (15.0.0)\n"
          ]
        }
      ]
    },
    {
      "cell_type": "code",
      "source": [
        "!pip install yt-dlp\n"
      ],
      "metadata": {
        "colab": {
          "base_uri": "https://localhost:8080/"
        },
        "id": "TDinZGV68AyR",
        "outputId": "06eb17f7-4a3d-47b6-c84d-b34e07c8f762"
      },
      "execution_count": 7,
      "outputs": [
        {
          "output_type": "stream",
          "name": "stdout",
          "text": [
            "Requirement already satisfied: yt-dlp in /usr/local/lib/python3.11/dist-packages (2025.4.30)\n"
          ]
        }
      ]
    },
    {
      "cell_type": "markdown",
      "source": [],
      "metadata": {
        "id": "2qKZwOTj7J7M"
      }
    },
    {
      "cell_type": "code",
      "source": [
        "!apt-get update\n",
        "!apt-get install ffmpeg\n"
      ],
      "metadata": {
        "colab": {
          "base_uri": "https://localhost:8080/"
        },
        "id": "lhx3S9Bq9XRd",
        "outputId": "787080c8-bf9a-49a8-f1c4-7f0c86c23218"
      },
      "execution_count": 8,
      "outputs": [
        {
          "output_type": "stream",
          "name": "stdout",
          "text": [
            "Hit:1 http://security.ubuntu.com/ubuntu jammy-security InRelease\n",
            "Hit:2 http://archive.ubuntu.com/ubuntu jammy InRelease\n",
            "Hit:3 https://cloud.r-project.org/bin/linux/ubuntu jammy-cran40/ InRelease\n",
            "Hit:4 https://developer.download.nvidia.com/compute/cuda/repos/ubuntu2204/x86_64  InRelease\n",
            "Hit:5 http://archive.ubuntu.com/ubuntu jammy-updates InRelease\n",
            "Hit:6 https://r2u.stat.illinois.edu/ubuntu jammy InRelease\n",
            "Hit:7 http://archive.ubuntu.com/ubuntu jammy-backports InRelease\n",
            "Hit:8 https://ppa.launchpadcontent.net/deadsnakes/ppa/ubuntu jammy InRelease\n",
            "Hit:9 https://ppa.launchpadcontent.net/graphics-drivers/ppa/ubuntu jammy InRelease\n",
            "Hit:10 https://ppa.launchpadcontent.net/ubuntugis/ppa/ubuntu jammy InRelease\n",
            "Reading package lists... Done\n",
            "W: Skipping acquire of configured file 'main/source/Sources' as repository 'https://r2u.stat.illinois.edu/ubuntu jammy InRelease' does not seem to provide it (sources.list entry misspelt?)\n",
            "Reading package lists... Done\n",
            "Building dependency tree... Done\n",
            "Reading state information... Done\n",
            "ffmpeg is already the newest version (7:4.4.2-0ubuntu0.22.04.1).\n",
            "0 upgraded, 0 newly installed, 0 to remove and 35 not upgraded.\n"
          ]
        }
      ]
    },
    {
      "cell_type": "code",
      "source": [
        "!ffmpeg -version\n"
      ],
      "metadata": {
        "colab": {
          "base_uri": "https://localhost:8080/"
        },
        "id": "EUKshc5c9c6u",
        "outputId": "b5565a61-d2fe-4ea5-973d-4b2454e2a030"
      },
      "execution_count": 9,
      "outputs": [
        {
          "output_type": "stream",
          "name": "stdout",
          "text": [
            "ffmpeg version 4.4.2-0ubuntu0.22.04.1 Copyright (c) 2000-2021 the FFmpeg developers\n",
            "built with gcc 11 (Ubuntu 11.2.0-19ubuntu1)\n",
            "configuration: --prefix=/usr --extra-version=0ubuntu0.22.04.1 --toolchain=hardened --libdir=/usr/lib/x86_64-linux-gnu --incdir=/usr/include/x86_64-linux-gnu --arch=amd64 --enable-gpl --disable-stripping --enable-gnutls --enable-ladspa --enable-libaom --enable-libass --enable-libbluray --enable-libbs2b --enable-libcaca --enable-libcdio --enable-libcodec2 --enable-libdav1d --enable-libflite --enable-libfontconfig --enable-libfreetype --enable-libfribidi --enable-libgme --enable-libgsm --enable-libjack --enable-libmp3lame --enable-libmysofa --enable-libopenjpeg --enable-libopenmpt --enable-libopus --enable-libpulse --enable-librabbitmq --enable-librubberband --enable-libshine --enable-libsnappy --enable-libsoxr --enable-libspeex --enable-libsrt --enable-libssh --enable-libtheora --enable-libtwolame --enable-libvidstab --enable-libvorbis --enable-libvpx --enable-libwebp --enable-libx265 --enable-libxml2 --enable-libxvid --enable-libzimg --enable-libzmq --enable-libzvbi --enable-lv2 --enable-omx --enable-openal --enable-opencl --enable-opengl --enable-sdl2 --enable-pocketsphinx --enable-librsvg --enable-libmfx --enable-libdc1394 --enable-libdrm --enable-libiec61883 --enable-chromaprint --enable-frei0r --enable-libx264 --enable-shared\n",
            "libavutil      56. 70.100 / 56. 70.100\n",
            "libavcodec     58.134.100 / 58.134.100\n",
            "libavformat    58. 76.100 / 58. 76.100\n",
            "libavdevice    58. 13.100 / 58. 13.100\n",
            "libavfilter     7.110.100 /  7.110.100\n",
            "libswscale      5.  9.100 /  5.  9.100\n",
            "libswresample   3.  9.100 /  3.  9.100\n",
            "libpostproc    55.  9.100 / 55.  9.100\n"
          ]
        }
      ]
    },
    {
      "cell_type": "code",
      "source": [
        "import os\n",
        "print(os.path.exists('video.mp4'))  # This will return True if the file exists\n"
      ],
      "metadata": {
        "colab": {
          "base_uri": "https://localhost:8080/"
        },
        "outputId": "c4cf8f26-ce11-4c10-c09b-3998ead846af",
        "id": "SUaXOApqAMUc"
      },
      "execution_count": 12,
      "outputs": [
        {
          "output_type": "stream",
          "name": "stdout",
          "text": [
            "True\n"
          ]
        }
      ]
    },
    {
      "cell_type": "code",
      "source": [
        "import os\n",
        "print(\"Current working directory:\", os.getcwd())\n"
      ],
      "metadata": {
        "colab": {
          "base_uri": "https://localhost:8080/"
        },
        "outputId": "57177f33-4454-4842-b49f-f279336f6dde",
        "id": "rTMqMNuMAVEo"
      },
      "execution_count": 10,
      "outputs": [
        {
          "output_type": "stream",
          "name": "stdout",
          "text": [
            "Current working directory: /content\n"
          ]
        }
      ]
    },
    {
      "cell_type": "code",
      "source": [
        "import os\n",
        "for f in os.listdir():\n",
        "    print(f)\n"
      ],
      "metadata": {
        "colab": {
          "base_uri": "https://localhost:8080/"
        },
        "outputId": "74247642-1291-43b9-da77-157dc2c2abb2",
        "id": "dKf9WXvYAdts"
      },
      "execution_count": 11,
      "outputs": [
        {
          "output_type": "stream",
          "name": "stdout",
          "text": [
            ".config\n",
            "audio.wav\n",
            "converted_audio.wav\n",
            ".gradio\n",
            "video.mp4\n",
            "sample_data\n"
          ]
        }
      ]
    },
    {
      "cell_type": "code",
      "source": [
        "import subprocess\n",
        "import yt_dlp as youtube_dl\n",
        "import moviepy.editor as mp\n",
        "import cv2\n",
        "import numpy as np\n",
        "\n",
        "# Download the YouTube video using yt-dlp\n",
        "def download_video(url):\n",
        "    try: # Corrected indentation here\n",
        "        print(f\"Attempting to download video from URL: {url}\")\n",
        "\n",
        "        # Force both video and audio to be merged into a single mp4 named video.mp4\n",
        "        ydl_opts = {\n",
        "            'format': 'bestvideo+bestaudio/best',\n",
        "            'outtmpl': 'video.%(ext)s',\n",
        "            'merge_output_format': 'mp4',\n",
        "        }\n",
        "\n",
        "        with youtube_dl.YoutubeDL(ydl_opts) as ydl:\n",
        "            info_dict = ydl.extract_info(url, download=True)\n",
        "            video_path = 'video.mp4' # We now know this will be the output\n",
        "            print(f\"Video downloaded successfully: {video_path}\")\n",
        "            return video_path\n",
        "    except Exception as e: # Corrected indentation here\n",
        "        print(f\"Error downloading video: {e}\")\n",
        "        return None\n",
        "\n",
        "\n",
        "\n",
        "# Convert video to MP4 (if needed)\n",
        "def convert_video_to_mp4(input_path, output_path='video_converted.mp4'):\n",
        "    try: # Corrected indentation here\n",
        "        # Use FFmpeg to convert the video\n",
        "        subprocess.run(['ffmpeg', '-i', input_path, '-c:v', 'libx264', '-c:a', 'aac', '-strict', 'experimental', output_path])\n",
        "        print(f\"Video converted to MP4 successfully: {output_path}\")\n",
        "        return output_path\n",
        "    except Exception as e: # Corrected indentation here\n",
        "        print(f\"Error converting video: {e}\")\n",
        "        return None\n",
        "\n",
        "# Extract audio and frames\n",
        "def extract_audio_and_frames(video_path):\n",
        "    try: # Corrected indentation here\n",
        "        # Convert video to MP4 if it's not already in a format MoviePy can handle\n",
        "        if not video_path.endswith('.mp4'):\n",
        "            video_path = convert_video_to_mp4(video_path)\n",
        "\n",
        "        # Load the video using moviepy\n",
        "        video = mp.VideoFileClip(video_path)\n",
        "\n",
        "        # Extract audio and save it as a .wav file\n",
        "        audio_path = \"audio.wav\"\n",
        "        video.audio.write_audiofile(audio_path)\n",
        "\n",
        "        # Extract frames using OpenCV\n",
        "        cap = cv2.VideoCapture(video_path)\n",
        "        frames = []\n",
        "        while cap.isOpened():\n",
        "            ret, frame = cap.read()\n",
        "            if not ret:\n",
        "                break\n",
        "            frames.append(frame)\n",
        "        cap.release()\n",
        "\n",
        "        return audio_path, frames\n",
        "    except Exception as e:  # Corrected indentation here\n",
        "        print(f\"Error extracting audio or frames: {e}\")\n",
        "        return None, None\n",
        "\n",
        "# Main function to process the given video URL\n",
        "def process_video(url):\n",
        "    # Download the video\n",
        "    video_path = download_video(url)\n",
        "    if video_path is None: # Exit if download failed\n",
        "        return None, None\n",
        "\n",
        "    # Extract audio and frames\n",
        "    audio_path, frames = extract_audio_and_frames(video_path)\n",
        "\n",
        "    if audio_path and frames:\n",
        "        print(f\"Audio extracted to: {audio_path}\")\n",
        "        print(f\"Extracted {len(frames)} frames from the video.\")\n",
        "\n",
        "    return audio_path, frames\n",
        "\n",
        "# Test with the given YouTube video URL\n",
        "url = \"https://www.youtube.com/watch?v=7BOCJFBxiXQ\"\n",
        "audio_path, frames = process_video(url) # Call the function with the URL to get the results"
      ],
      "metadata": {
        "colab": {
          "base_uri": "https://localhost:8080/"
        },
        "id": "1611YuzOra7M",
        "outputId": "de9c2a95-bd85-49c5-889d-76bd14023fd9"
      },
      "execution_count": 13,
      "outputs": [
        {
          "output_type": "stream",
          "name": "stdout",
          "text": [
            "Attempting to download video from URL: https://www.youtube.com/watch?v=7BOCJFBxiXQ\n",
            "[youtube] Extracting URL: https://www.youtube.com/watch?v=7BOCJFBxiXQ\n",
            "[youtube] 7BOCJFBxiXQ: Downloading webpage\n",
            "[youtube] 7BOCJFBxiXQ: Downloading tv client config\n",
            "[youtube] 7BOCJFBxiXQ: Downloading tv player API JSON\n",
            "[youtube] 7BOCJFBxiXQ: Downloading ios player API JSON\n",
            "[youtube] 7BOCJFBxiXQ: Downloading m3u8 information\n",
            "[info] 7BOCJFBxiXQ: Downloading 1 format(s): 401+251\n",
            "[download] video.mp4 has already been downloaded\n",
            "Video downloaded successfully: video.mp4\n",
            "MoviePy - Writing audio in audio.wav\n"
          ]
        },
        {
          "output_type": "stream",
          "name": "stderr",
          "text": []
        },
        {
          "output_type": "stream",
          "name": "stdout",
          "text": [
            "MoviePy - Done.\n"
          ]
        }
      ]
    },
    {
      "cell_type": "code",
      "source": [
        "!pip install -U openai-whisper\n",
        "!sudo apt-get install ffmpeg\n"
      ],
      "metadata": {
        "colab": {
          "base_uri": "https://localhost:8080/"
        },
        "outputId": "83d9c730-9d7b-4d76-e729-c3f5bf847147",
        "id": "DNR2Luh1NFVF"
      },
      "execution_count": 14,
      "outputs": [
        {
          "output_type": "stream",
          "name": "stdout",
          "text": [
            "Requirement already satisfied: openai-whisper in /usr/local/lib/python3.11/dist-packages (20240930)\n",
            "Requirement already satisfied: numba in /usr/local/lib/python3.11/dist-packages (from openai-whisper) (0.60.0)\n",
            "Requirement already satisfied: numpy in /usr/local/lib/python3.11/dist-packages (from openai-whisper) (2.0.2)\n",
            "Requirement already satisfied: torch in /usr/local/lib/python3.11/dist-packages (from openai-whisper) (2.6.0+cu124)\n",
            "Requirement already satisfied: tqdm in /usr/local/lib/python3.11/dist-packages (from openai-whisper) (4.67.1)\n",
            "Requirement already satisfied: more-itertools in /usr/local/lib/python3.11/dist-packages (from openai-whisper) (10.7.0)\n",
            "Requirement already satisfied: tiktoken in /usr/local/lib/python3.11/dist-packages (from openai-whisper) (0.9.0)\n",
            "Requirement already satisfied: triton>=2.0.0 in /usr/local/lib/python3.11/dist-packages (from openai-whisper) (3.2.0)\n",
            "Requirement already satisfied: llvmlite<0.44,>=0.43.0dev0 in /usr/local/lib/python3.11/dist-packages (from numba->openai-whisper) (0.43.0)\n",
            "Requirement already satisfied: regex>=2022.1.18 in /usr/local/lib/python3.11/dist-packages (from tiktoken->openai-whisper) (2024.11.6)\n",
            "Requirement already satisfied: requests>=2.26.0 in /usr/local/lib/python3.11/dist-packages (from tiktoken->openai-whisper) (2.32.3)\n",
            "Requirement already satisfied: filelock in /usr/local/lib/python3.11/dist-packages (from torch->openai-whisper) (3.18.0)\n",
            "Requirement already satisfied: typing-extensions>=4.10.0 in /usr/local/lib/python3.11/dist-packages (from torch->openai-whisper) (4.13.2)\n",
            "Requirement already satisfied: networkx in /usr/local/lib/python3.11/dist-packages (from torch->openai-whisper) (3.4.2)\n",
            "Requirement already satisfied: jinja2 in /usr/local/lib/python3.11/dist-packages (from torch->openai-whisper) (3.1.6)\n",
            "Requirement already satisfied: fsspec in /usr/local/lib/python3.11/dist-packages (from torch->openai-whisper) (2025.3.2)\n",
            "Requirement already satisfied: nvidia-cuda-nvrtc-cu12==12.4.127 in /usr/local/lib/python3.11/dist-packages (from torch->openai-whisper) (12.4.127)\n",
            "Requirement already satisfied: nvidia-cuda-runtime-cu12==12.4.127 in /usr/local/lib/python3.11/dist-packages (from torch->openai-whisper) (12.4.127)\n",
            "Requirement already satisfied: nvidia-cuda-cupti-cu12==12.4.127 in /usr/local/lib/python3.11/dist-packages (from torch->openai-whisper) (12.4.127)\n",
            "Requirement already satisfied: nvidia-cudnn-cu12==9.1.0.70 in /usr/local/lib/python3.11/dist-packages (from torch->openai-whisper) (9.1.0.70)\n",
            "Requirement already satisfied: nvidia-cublas-cu12==12.4.5.8 in /usr/local/lib/python3.11/dist-packages (from torch->openai-whisper) (12.4.5.8)\n",
            "Requirement already satisfied: nvidia-cufft-cu12==11.2.1.3 in /usr/local/lib/python3.11/dist-packages (from torch->openai-whisper) (11.2.1.3)\n",
            "Requirement already satisfied: nvidia-curand-cu12==10.3.5.147 in /usr/local/lib/python3.11/dist-packages (from torch->openai-whisper) (10.3.5.147)\n",
            "Requirement already satisfied: nvidia-cusolver-cu12==11.6.1.9 in /usr/local/lib/python3.11/dist-packages (from torch->openai-whisper) (11.6.1.9)\n",
            "Requirement already satisfied: nvidia-cusparse-cu12==12.3.1.170 in /usr/local/lib/python3.11/dist-packages (from torch->openai-whisper) (12.3.1.170)\n",
            "Requirement already satisfied: nvidia-cusparselt-cu12==0.6.2 in /usr/local/lib/python3.11/dist-packages (from torch->openai-whisper) (0.6.2)\n",
            "Requirement already satisfied: nvidia-nccl-cu12==2.21.5 in /usr/local/lib/python3.11/dist-packages (from torch->openai-whisper) (2.21.5)\n",
            "Requirement already satisfied: nvidia-nvtx-cu12==12.4.127 in /usr/local/lib/python3.11/dist-packages (from torch->openai-whisper) (12.4.127)\n",
            "Requirement already satisfied: nvidia-nvjitlink-cu12==12.4.127 in /usr/local/lib/python3.11/dist-packages (from torch->openai-whisper) (12.4.127)\n",
            "Requirement already satisfied: sympy==1.13.1 in /usr/local/lib/python3.11/dist-packages (from torch->openai-whisper) (1.13.1)\n",
            "Requirement already satisfied: mpmath<1.4,>=1.1.0 in /usr/local/lib/python3.11/dist-packages (from sympy==1.13.1->torch->openai-whisper) (1.3.0)\n",
            "Requirement already satisfied: charset-normalizer<4,>=2 in /usr/local/lib/python3.11/dist-packages (from requests>=2.26.0->tiktoken->openai-whisper) (3.4.1)\n",
            "Requirement already satisfied: idna<4,>=2.5 in /usr/local/lib/python3.11/dist-packages (from requests>=2.26.0->tiktoken->openai-whisper) (3.10)\n",
            "Requirement already satisfied: urllib3<3,>=1.21.1 in /usr/local/lib/python3.11/dist-packages (from requests>=2.26.0->tiktoken->openai-whisper) (2.4.0)\n",
            "Requirement already satisfied: certifi>=2017.4.17 in /usr/local/lib/python3.11/dist-packages (from requests>=2.26.0->tiktoken->openai-whisper) (2025.4.26)\n",
            "Requirement already satisfied: MarkupSafe>=2.0 in /usr/local/lib/python3.11/dist-packages (from jinja2->torch->openai-whisper) (3.0.2)\n",
            "Reading package lists... Done\n",
            "Building dependency tree... Done\n",
            "Reading state information... Done\n",
            "ffmpeg is already the newest version (7:4.4.2-0ubuntu0.22.04.1).\n",
            "0 upgraded, 0 newly installed, 0 to remove and 35 not upgraded.\n"
          ]
        }
      ]
    },
    {
      "cell_type": "code",
      "source": [
        "import cv2\n",
        "import subprocess\n",
        "import whisper # Added import statement for whisper\n",
        "\n",
        "# Speech recognition\n",
        "\n",
        "# Load once\n",
        "whisper_model = whisper.load_model(\"base\")  # Try \"small\" or \"medium\" for better accuracy\n",
        "\n",
        "def convert_audio_to_whisper_format(input_path, output_path=\"converted_audio.wav\"):\n",
        "    command = [\n",
        "        'ffmpeg',\n",
        "        '-y',  # Overwrite output file if exists\n",
        "        '-i', input_path,\n",
        "        '-ar', '16000',        # Sample rate\n",
        "        '-ac', '1',            # Mono channel\n",
        "        '-c:a', 'pcm_s16le',   # 16-bit PCM\n",
        "        output_path\n",
        "    ]\n",
        "    subprocess.run(command, stdout=subprocess.PIPE, stderr=subprocess.PIPE)\n",
        "    return output_path\n",
        "def transcribe_audio_whisper(audio_path):\n",
        "    print(\"[INFO] Transcribing using Whisper...\")\n",
        "\n",
        "    # 🔁 Step 1: Convert audio to whisper-friendly format\n",
        "    converted_path = convert_audio_to_whisper_format(audio_path)\n",
        "\n",
        "    try:\n",
        "        # 🔁 Step 2: Use Whisper to transcribe\n",
        "        result = whisper_model.transcribe(converted_path)\n",
        "        print(\"[INFO] Whisper Transcription Completed.\")\n",
        "        return result[\"text\"]\n",
        "    except Exception as e:\n",
        "        print(f\"[ERROR] Whisper transcription failed: {e}\")\n",
        "        return \"\"\n",
        "# Scene change detection using frame differences\n",
        "def detect_scene_changes(frames, threshold=30):\n",
        "    scene_changes = []\n",
        "    previous_frame = None\n",
        "    for i, frame in enumerate(frames):\n",
        "        gray_frame = cv2.cvtColor(frame, cv2.COLOR_BGR2GRAY)\n",
        "        if previous_frame is not None:\n",
        "            diff = cv2.absdiff(previous_frame, gray_frame)\n",
        "            non_zero_count = np.count_nonzero(diff)\n",
        "            if non_zero_count > threshold:\n",
        "                scene_changes.append(i)\n",
        "        previous_frame = gray_frame\n",
        "    return scene_changes"
      ],
      "metadata": {
        "id": "VD1SCUbDhjPe"
      },
      "execution_count": 15,
      "outputs": []
    },
    {
      "cell_type": "code",
      "source": [
        "\n",
        "# Classify key moments based on transcribed speech\n",
        "def classify_key_moments(transcription):\n",
        "    key_moments = {\n",
        "        \"unboxing\": [\"unbox\", \"opening\", \"packaging\"],\n",
        "        \"feature_demo\": [\"feature\", \"demo\", \"demonstrate\"],\n",
        "        \"final_verdict\": [\"verdict\", \"conclusion\", \"final thoughts\"]\n",
        "    }\n",
        "\n",
        "    moments = []\n",
        "\n",
        "    if not transcription or not isinstance(transcription, str):\n",
        "        print(\"[WARN] Transcription is empty or invalid.\")\n",
        "        return moments  # Return empty list instead of crashing\n",
        "\n",
        "    for moment, keywords in key_moments.items():\n",
        "        if any(keyword in transcription.lower() for keyword in keywords):\n",
        "            moments.append(moment)\n",
        "\n",
        "    return moments\n",
        "#Segment the video into chunks based on scene changes\n",
        "def segment_video_by_scene_changes(video_path, frames, scene_changes, segment_duration=30):\n",
        "    segments = []\n",
        "    for i in range(0, len(scene_changes), segment_duration):\n",
        "        start_frame = scene_changes[i]\n",
        "        end_frame = scene_changes[min(i + segment_duration, len(scene_changes) - 1)]\n",
        "\n",
        "        # Calculate the start and end time for the segment based on frame indices\n",
        "        start_time = start_frame / float(len(frames)) * mp.VideoFileClip(video_path).duration\n",
        "        end_time = end_frame / float(len(frames)) * mp.VideoFileClip(video_path).duration\n",
        "\n",
        "        # Save each segment as a new video file\n",
        "        segment_file = f\"segment_{i // segment_duration + 1}.mp4\"\n",
        "        video_clip = mp.VideoFileClip(video_path).subclip(start_time, end_time)\n",
        "        video_clip.write_videofile(segment_file, codec=\"libx264\")\n",
        "\n",
        "        segments.append(segment_file)\n",
        "        video_clip.close()  # Close the video clip to release resources\n",
        "\n",
        "    return segments\n"
      ],
      "metadata": {
        "id": "BO3QN9MOB0Qj"
      },
      "execution_count": 16,
      "outputs": []
    },
    {
      "cell_type": "code",
      "source": [
        "!pip install gradio"
      ],
      "metadata": {
        "colab": {
          "base_uri": "https://localhost:8080/"
        },
        "id": "jo_LWzwvCDe0",
        "outputId": "582e517b-f241-455b-d2e6-a30b4ee8c584"
      },
      "execution_count": 17,
      "outputs": [
        {
          "output_type": "stream",
          "name": "stdout",
          "text": [
            "Requirement already satisfied: gradio in /usr/local/lib/python3.11/dist-packages (5.29.0)\n",
            "Requirement already satisfied: aiofiles<25.0,>=22.0 in /usr/local/lib/python3.11/dist-packages (from gradio) (24.1.0)\n",
            "Requirement already satisfied: anyio<5.0,>=3.0 in /usr/local/lib/python3.11/dist-packages (from gradio) (4.9.0)\n",
            "Requirement already satisfied: fastapi<1.0,>=0.115.2 in /usr/local/lib/python3.11/dist-packages (from gradio) (0.115.12)\n",
            "Requirement already satisfied: ffmpy in /usr/local/lib/python3.11/dist-packages (from gradio) (0.5.0)\n",
            "Requirement already satisfied: gradio-client==1.10.0 in /usr/local/lib/python3.11/dist-packages (from gradio) (1.10.0)\n",
            "Requirement already satisfied: groovy~=0.1 in /usr/local/lib/python3.11/dist-packages (from gradio) (0.1.2)\n",
            "Requirement already satisfied: httpx>=0.24.1 in /usr/local/lib/python3.11/dist-packages (from gradio) (0.28.1)\n",
            "Requirement already satisfied: huggingface-hub>=0.28.1 in /usr/local/lib/python3.11/dist-packages (from gradio) (0.30.2)\n",
            "Requirement already satisfied: jinja2<4.0 in /usr/local/lib/python3.11/dist-packages (from gradio) (3.1.6)\n",
            "Requirement already satisfied: markupsafe<4.0,>=2.0 in /usr/local/lib/python3.11/dist-packages (from gradio) (3.0.2)\n",
            "Requirement already satisfied: numpy<3.0,>=1.0 in /usr/local/lib/python3.11/dist-packages (from gradio) (2.0.2)\n",
            "Requirement already satisfied: orjson~=3.0 in /usr/local/lib/python3.11/dist-packages (from gradio) (3.10.18)\n",
            "Requirement already satisfied: packaging in /usr/local/lib/python3.11/dist-packages (from gradio) (24.2)\n",
            "Requirement already satisfied: pandas<3.0,>=1.0 in /usr/local/lib/python3.11/dist-packages (from gradio) (2.2.2)\n",
            "Requirement already satisfied: pillow<12.0,>=8.0 in /usr/local/lib/python3.11/dist-packages (from gradio) (11.2.1)\n",
            "Requirement already satisfied: pydantic<2.12,>=2.0 in /usr/local/lib/python3.11/dist-packages (from gradio) (2.11.4)\n",
            "Requirement already satisfied: pydub in /usr/local/lib/python3.11/dist-packages (from gradio) (0.25.1)\n",
            "Requirement already satisfied: python-multipart>=0.0.18 in /usr/local/lib/python3.11/dist-packages (from gradio) (0.0.20)\n",
            "Requirement already satisfied: pyyaml<7.0,>=5.0 in /usr/local/lib/python3.11/dist-packages (from gradio) (6.0.2)\n",
            "Requirement already satisfied: ruff>=0.9.3 in /usr/local/lib/python3.11/dist-packages (from gradio) (0.11.9)\n",
            "Requirement already satisfied: safehttpx<0.2.0,>=0.1.6 in /usr/local/lib/python3.11/dist-packages (from gradio) (0.1.6)\n",
            "Requirement already satisfied: semantic-version~=2.0 in /usr/local/lib/python3.11/dist-packages (from gradio) (2.10.0)\n",
            "Requirement already satisfied: starlette<1.0,>=0.40.0 in /usr/local/lib/python3.11/dist-packages (from gradio) (0.46.2)\n",
            "Requirement already satisfied: tomlkit<0.14.0,>=0.12.0 in /usr/local/lib/python3.11/dist-packages (from gradio) (0.13.2)\n",
            "Requirement already satisfied: typer<1.0,>=0.12 in /usr/local/lib/python3.11/dist-packages (from gradio) (0.15.3)\n",
            "Requirement already satisfied: typing-extensions~=4.0 in /usr/local/lib/python3.11/dist-packages (from gradio) (4.13.2)\n",
            "Requirement already satisfied: uvicorn>=0.14.0 in /usr/local/lib/python3.11/dist-packages (from gradio) (0.34.2)\n",
            "Requirement already satisfied: fsspec in /usr/local/lib/python3.11/dist-packages (from gradio-client==1.10.0->gradio) (2025.3.2)\n",
            "Requirement already satisfied: websockets<16.0,>=10.0 in /usr/local/lib/python3.11/dist-packages (from gradio-client==1.10.0->gradio) (15.0.1)\n",
            "Requirement already satisfied: idna>=2.8 in /usr/local/lib/python3.11/dist-packages (from anyio<5.0,>=3.0->gradio) (3.10)\n",
            "Requirement already satisfied: sniffio>=1.1 in /usr/local/lib/python3.11/dist-packages (from anyio<5.0,>=3.0->gradio) (1.3.1)\n",
            "Requirement already satisfied: certifi in /usr/local/lib/python3.11/dist-packages (from httpx>=0.24.1->gradio) (2025.4.26)\n",
            "Requirement already satisfied: httpcore==1.* in /usr/local/lib/python3.11/dist-packages (from httpx>=0.24.1->gradio) (1.0.9)\n",
            "Requirement already satisfied: h11>=0.16 in /usr/local/lib/python3.11/dist-packages (from httpcore==1.*->httpx>=0.24.1->gradio) (0.16.0)\n",
            "Requirement already satisfied: filelock in /usr/local/lib/python3.11/dist-packages (from huggingface-hub>=0.28.1->gradio) (3.18.0)\n",
            "Requirement already satisfied: requests in /usr/local/lib/python3.11/dist-packages (from huggingface-hub>=0.28.1->gradio) (2.32.3)\n",
            "Requirement already satisfied: tqdm>=4.42.1 in /usr/local/lib/python3.11/dist-packages (from huggingface-hub>=0.28.1->gradio) (4.67.1)\n",
            "Requirement already satisfied: python-dateutil>=2.8.2 in /usr/local/lib/python3.11/dist-packages (from pandas<3.0,>=1.0->gradio) (2.9.0.post0)\n",
            "Requirement already satisfied: pytz>=2020.1 in /usr/local/lib/python3.11/dist-packages (from pandas<3.0,>=1.0->gradio) (2025.2)\n",
            "Requirement already satisfied: tzdata>=2022.7 in /usr/local/lib/python3.11/dist-packages (from pandas<3.0,>=1.0->gradio) (2025.2)\n",
            "Requirement already satisfied: annotated-types>=0.6.0 in /usr/local/lib/python3.11/dist-packages (from pydantic<2.12,>=2.0->gradio) (0.7.0)\n",
            "Requirement already satisfied: pydantic-core==2.33.2 in /usr/local/lib/python3.11/dist-packages (from pydantic<2.12,>=2.0->gradio) (2.33.2)\n",
            "Requirement already satisfied: typing-inspection>=0.4.0 in /usr/local/lib/python3.11/dist-packages (from pydantic<2.12,>=2.0->gradio) (0.4.0)\n",
            "Requirement already satisfied: click>=8.0.0 in /usr/local/lib/python3.11/dist-packages (from typer<1.0,>=0.12->gradio) (8.1.8)\n",
            "Requirement already satisfied: shellingham>=1.3.0 in /usr/local/lib/python3.11/dist-packages (from typer<1.0,>=0.12->gradio) (1.5.4)\n",
            "Requirement already satisfied: rich>=10.11.0 in /usr/local/lib/python3.11/dist-packages (from typer<1.0,>=0.12->gradio) (13.9.4)\n",
            "Requirement already satisfied: six>=1.5 in /usr/local/lib/python3.11/dist-packages (from python-dateutil>=2.8.2->pandas<3.0,>=1.0->gradio) (1.17.0)\n",
            "Requirement already satisfied: markdown-it-py>=2.2.0 in /usr/local/lib/python3.11/dist-packages (from rich>=10.11.0->typer<1.0,>=0.12->gradio) (3.0.0)\n",
            "Requirement already satisfied: pygments<3.0.0,>=2.13.0 in /usr/local/lib/python3.11/dist-packages (from rich>=10.11.0->typer<1.0,>=0.12->gradio) (2.19.1)\n",
            "Requirement already satisfied: charset-normalizer<4,>=2 in /usr/local/lib/python3.11/dist-packages (from requests->huggingface-hub>=0.28.1->gradio) (3.4.1)\n",
            "Requirement already satisfied: urllib3<3,>=1.21.1 in /usr/local/lib/python3.11/dist-packages (from requests->huggingface-hub>=0.28.1->gradio) (2.4.0)\n",
            "Requirement already satisfied: mdurl~=0.1 in /usr/local/lib/python3.11/dist-packages (from markdown-it-py>=2.2.0->rich>=10.11.0->typer<1.0,>=0.12->gradio) (0.1.2)\n"
          ]
        }
      ]
    },
    {
      "cell_type": "code",
      "source": [
        "audio_path, frames = process_video(\"https://www.youtube.com/watch?v=7BOCJFBxiXQ\")\n",
        "print(f\"Audio path: {audio_path}\")\n",
        "print(f\"Number of frames: {len(frames) if frames else 0}\")\n",
        "\n",
        "# Use Whisper transcription instead of Google\n",
        "transcription = transcribe_audio_whisper(audio_path)\n",
        "print(\"Final Transcription:\\n\", transcription)"
      ],
      "metadata": {
        "colab": {
          "base_uri": "https://localhost:8080/"
        },
        "id": "IahoUWATDVNs",
        "outputId": "f5738deb-3d69-4ada-c93b-6651c98e0a10"
      },
      "execution_count": 18,
      "outputs": [
        {
          "output_type": "stream",
          "name": "stdout",
          "text": [
            "Attempting to download video from URL: https://www.youtube.com/watch?v=7BOCJFBxiXQ\n",
            "[youtube] Extracting URL: https://www.youtube.com/watch?v=7BOCJFBxiXQ\n",
            "[youtube] 7BOCJFBxiXQ: Downloading webpage\n",
            "[youtube] 7BOCJFBxiXQ: Downloading tv client config\n",
            "[youtube] 7BOCJFBxiXQ: Downloading tv player API JSON\n",
            "[youtube] 7BOCJFBxiXQ: Downloading ios player API JSON\n",
            "[youtube] 7BOCJFBxiXQ: Downloading m3u8 information\n",
            "[info] 7BOCJFBxiXQ: Downloading 1 format(s): 401+251\n",
            "[download] video.mp4 has already been downloaded\n",
            "Video downloaded successfully: video.mp4\n",
            "MoviePy - Writing audio in audio.wav\n"
          ]
        },
        {
          "output_type": "stream",
          "name": "stderr",
          "text": []
        },
        {
          "output_type": "stream",
          "name": "stdout",
          "text": [
            "MoviePy - Done.\n",
            "Audio path: audio.wav\n",
            "Number of frames: 0\n",
            "[INFO] Transcribing using Whisper...\n"
          ]
        },
        {
          "output_type": "stream",
          "name": "stderr",
          "text": [
            "WARNING:py.warnings:/usr/local/lib/python3.11/dist-packages/whisper/transcribe.py:126: UserWarning: FP16 is not supported on CPU; using FP32 instead\n",
            "  warnings.warn(\"FP16 is not supported on CPU; using FP32 instead\")\n",
            "\n"
          ]
        },
        {
          "output_type": "stream",
          "name": "stdout",
          "text": [
            "[INFO] Whisper Transcription Completed.\n",
            "Final Transcription:\n",
            "  Alright, we are fresh from the Apple Store and we have the new iPhone 16 pro and pro max these are probably the two both anticipated and I got them both in the new color because I feel like Well, I don't know that's what people tend to get excited about the new colors We have them both in 512 gigabytes of storage here. Let's start with the 16 pro desert titanium Apple has refined the unboxing experience, but I want to see what kind of box tension Let me get here The perfect amount. This looks a lot different than the mockup that I had It's way lighter and it has almost like a slightly pinkish hue to it I do like the color of the titanium frame though. That kind of almost copper not quite Bronze but lighter. It's nice. Look it feels very similar to the previous generation Obviously with the addition of camera control big giant camera control power switch Of course, we've also got our action button volume rocker SIM tray Camera layout all very familiar also in the package we have our braided USB-C cable look at this funky packaging with that There you go or a gummy fold This is the type of cable they're going with now on pretty much everything the MacBooks the phones So it's a braided style cable flat USB type-C connection point and then SIM tool which hasn't changed as far as I can tell in any generation like this looks very familiar You can still use eSIM obviously and in my case with the previous generation I actually had both one via eSIM and one via physical sim there is iPhone 16 pro now. Let's compare it to the max As expected a bigger version Obviously the pro is going to be a little bit more comfortable for one-handed functionality But the pro max is going to give you a more rich multimedia experience When we pull in the previous generation of each you'll see that the sizes have changed ever so slightly The standard pro model non max you can see it got a little bit taller Same on the pro max models. It's going to be a familiar place. It's a subtle Increase in scale now one thing that these devices do not come with is power brick That's been many generations now that that's been the case but good thing our friends and partners at anchor Have you covered with a number of different charging options including their new Magsafe compatible ultra fast cheat to charging stand in either black or white and this is 15 watt capable for Fast mag safe wireless charging and what's cool here is they have the same unboxing experience as a happily at this point Look at this little pull tabs look how simple that design is I like it 360 degree Satisfying Mo stop it that is so satisfying landscape or trip This is beautiful. I'll just be here for a while So they kept this as simple as possible it has a weighted stand and a type-c connector on the other end Look at this little guy 10,000 milliampar charge anywhere for Apple watch and iPhone now what's unique about this one is it will do Apple watch on a little angle nice little subtle screen showcasing how much charge is left and then of course a separate Type-C output for a secondary device as well so very convenient another option the ultra compact three-in-one Cheeto charger and this is gonna be for AirPods Apple watch and your iPhone all in one portable charger Oh cool look at how tiny that thing gets cable power brick charger and now you have phone Air pods and watch that's gotta be one of the most portable redevice charger multi-combo charger situations that I've seen that's pocketable look at that thing It's in your palm. This is the mag go power bank, which is a 10,000 milliampar power bank and it uses mag safe This is just going to slap onto the back of your device and the nice thing here is you can continue to use your device while you're charging Over wireless and they've really considered the format and the styling of the device so that it really integrates seamlessly with your iPhone and MagSafe now anchors also doing a case this year They have a mag go magnetic case which has a built-in stand and a one-press mount such novel products from anchor Especially around the new iPhone launches so many different ways to charge up your new device and pick up some accessories to go with it All right, so we have these devices set up now I kind of want to talk about the differences between the 16 and the 15 pro and pro max Slightly bigger display camera control button. We have the promise of Apple intelligence But that's gonna roll out to the 15 if you have one of those the camera system is different the ultra wide now gets a 48 megapixel sensor macro capability goes up to 48 megapixels We have Dolby vision at 4k up to 120 hertz audio features when you're filming outdoor in order to cancel out Surrounding noise or to bring your own dialogue to the forefront battery life apples claiming up to 33 hours on the pro max Which is four hours more battery life than the 15 pro max everybody likes more battery life is that significant enough again to Consider an upgrade from the 15 pro max probably not for a lot of people But if you're a couple generations back then you may be enticed the brightness spec looks to be essentially the same However, they are labeling the new 16 pro and 16 pro max at one minute minimum brightness So I guess it can actually go dimmer than the previous generation which could have some effect on battery saving You get the added battery life a slightly bigger display and you'll probably put up with a couple of extra grams of weight I think this is pretty safe to say that this is a minor upgrade from the previous generation and in an economy like we're in right I don't know how many people are gonna be super excited to pick this up and pay full price for one of these You guys let me know in the comments your take maybe like I said if you're a few generations back and you've been holding off Unupgrading maybe this just so happens to land on your upgrade schedule and don't forget a brand new desert color and the camera button You want to buy a whole new phone for a camera button? Maybe you do you can press and hold to turn silent mode on and off or now in silent mode I'll press and hold and now it's off So this has been a thing since they got rid of the switch the switch was quite satisfying But of course the action button you can change its purpose for whatever is useful to you I can have it control camera. I don't have a need for that anymore with my camera control flashlight voice memo even to recognize music Yes, just then I boot open the camera and it immediately wants me to try the photographic styles So let's go ahead and do that it currently says under tone and then I can what dial it in using this little pad here Like that it's like a touchpad and obviously I can fire using my camera control now I can toggle through a few different this is standard here we moved to amber and gold rose gold It's this is a sort of filter I can supply as much or as little of the effect as I like and I can't Or move it around as well dramatic now. Let's go back to the regular mode I mean those look like filters. I'm gonna start at 0.5 and on plant 1x 2x and 5x What's interesting is it's almost like the color temp kind of moved a little bit from the ultra wide could be this lighting scenario you'll try it again with no table involvement move out to 5. Okay, now that's a better photo I think I grabbed focus on the part I wanted here in the center the ultra wide is looking better than the previous generation for sure I just like adulter wide stuff in general. We have of course cinematic video Cinematic video testing here's Moe you can see the bokeh in the background and this is at 1x He's moving the guys moving now we're at 2x. I was really moving It's well, it's It's doing the cinematic the bokeh thing right it looks fantastic. Yeah, it looks good Like I mean, I could probably tell if I was looking for it, but like shooting this on a phone Cow's really moving it has like a slower fall off than this really crisp line around the subject So it may be it's slightly more convincing because of that if I just go to the standard video mode our options for video Obviously up to 4k the standard 4k 60 Video test and it's Moe once again because he's our he's our subject. What should he do? Show and tell show and tell Oh vibrant let's look at the colors Check them out They love it you know what I have no idea, but they love it And Well if we wanted to we have to switch to the point five and then we're gonna write up on those threads Yeah, and so much of Devices now their cameras. They're so fast. They're so good. It's like oh, what's the difference on the cameras look at this We have to switch to the point five and then Like that that we're looking for you like that a lot of power in this device from a processing perspective Which obviously aids in taking advantage of this camera hardware and giving you this higher frame rates fantastic Press the camera control button. It just quickly launches me into the camera app It is pretty rapid and then you're snapping photos press this button and again, and then I've taken my shot people have done this with other devices In the past using other key combinations double taps and things like that Having a dedicated button a large recess dedicated button. I don't know. It kind of gives you a camera like feel It gives you like a optic clicky Similar to if you had a click on your lens like a click click as you move through the zoom range And then surprisingly no haptic when you actually press down on the shutter We can actually swipe down after pressing on it and switch to depth exposure zoom the different cameras styles or tone I go to cameras for example This will instead quickly move through the different zoom ranges swipe down from there Which to the f-stop and then now I can change the amount of bokeh from f-1 for To f-14 you see the laptop in the background gets blurrier as I increase the size of my aperture or at least the digital Representation of the f-1 floor f-16 always curious about the way that they sound. Let's launch youtube on both of them Oh I would say the pro max sounds a little bit more rich apple always puts attention to detail there I think it has actually helped other manufacturers do the same thank goodness We're getting just much better sound out of our smartphones these days Then we didn't the past including these ones Wow, I don't know if that's honestly tough when I look at this and I look at these improvements I mean I guess everybody already knew before watching this video that this is like an incremental thing If you watched apples event you would have known it was an incremental thing where they did make improvements I don't mind like I said battery life is never a thing I'm gonna complain about they have a very ambitious number. They're like 33 hours. Whoa I would like to experience that for anything more than like the first month that I have the phone They made them a little bit bigger and obviously they added this very specific camera functionality Which I think is nice, but it's not like crazy Innovative to the extent that I think people need to be rushing out top grade. That's my opinion on it Maybe yours is different you let me know down in the comments regardless of what you do If you pick up a 16 or maybe you look for a 15 on discount make sure to check out our partners over at anchor They have all your power and charging needs all kinds of mag safe stuff including that extremely satisfying new gadget They just gave me the way they engineered this twist is just addictive Anyway check out the description if you want to pick one of these well done You\n"
          ]
        }
      ]
    },
    {
      "cell_type": "code",
      "source": [
        "import gradio as gr\n",
        "\n",
        "def full_pipeline(url):\n",
        "    audio_path, frames = process_video(url)\n",
        "    if audio_path is None or frames is None:\n",
        "        return \"❌ Failed to process video.\", {}, []\n",
        "\n",
        "    transcription = transcribe_audio_whisper(audio_path)\n",
        "    key_moments = classify_key_moments(transcription)\n",
        "    scene_changes = detect_scene_changes(frames)\n",
        "    segments = segment_video_by_scene_changes(\"video.mp4\", frames, scene_changes)\n",
        "\n",
        "    return transcription, {\"Detected Moments\": key_moments}, segments\n",
        "\n",
        "with gr.Blocks(title=\"YouTube Video Processor\") as demo:\n",
        "    gr.Markdown(\"## 🎬 YouTube Review Analyzer\\nExtracts transcript, detects key review moments, and segments scenes.\")\n",
        "\n",
        "    with gr.Row():\n",
        "        url_input = gr.Textbox(label=\"YouTube URL\", placeholder=\"https://www.youtube.com/watch?v=...\")\n",
        "        analyze_btn = gr.Button(\"Analyze Video\", variant=\"primary\")\n",
        "\n",
        "    with gr.Row():\n",
        "        with gr.Column():\n",
        "            transcription_output = gr.Textbox(label=\"Transcription\", lines=10, interactive=False)\n",
        "            key_moments_output = gr.JSON(label=\"Key Moments\")\n",
        "            segments_output = gr.File(label=\"Video Segments\", file_types=[\".mp4\"], interactive=False, file_count=\"multiple\")\n",
        "\n",
        "    analyze_btn.click(\n",
        "        fn=full_pipeline,\n",
        "        inputs=url_input,\n",
        "        outputs=[transcription_output, key_moments_output, segments_output]\n",
        "    )\n",
        "\n",
        "demo.launch(debug=False, share=True)\n"
      ],
      "metadata": {
        "colab": {
          "base_uri": "https://localhost:8080/",
          "height": 591
        },
        "id": "SfEG8T4iDW1k",
        "outputId": "be8b318a-70b4-4b0e-e916-9e93f4701bc7"
      },
      "execution_count": 21,
      "outputs": [
        {
          "output_type": "stream",
          "name": "stdout",
          "text": [
            "Colab notebook detected. To show errors in colab notebook, set debug=True in launch()\n",
            "* Running on public URL: https://cab80e7ea5edcdc192.gradio.live\n",
            "\n",
            "This share link expires in 1 week. For free permanent hosting and GPU upgrades, run `gradio deploy` from the terminal in the working directory to deploy to Hugging Face Spaces (https://huggingface.co/spaces)\n"
          ]
        },
        {
          "output_type": "display_data",
          "data": {
            "text/plain": [
              "<IPython.core.display.HTML object>"
            ],
            "text/html": [
              "<div><iframe src=\"https://cab80e7ea5edcdc192.gradio.live\" width=\"100%\" height=\"500\" allow=\"autoplay; camera; microphone; clipboard-read; clipboard-write;\" frameborder=\"0\" allowfullscreen></iframe></div>"
            ]
          },
          "metadata": {}
        },
        {
          "output_type": "execute_result",
          "data": {
            "text/plain": []
          },
          "metadata": {},
          "execution_count": 21
        }
      ]
    }
  ]
}